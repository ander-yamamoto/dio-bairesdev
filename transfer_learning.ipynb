{
  "nbformat": 4,
  "nbformat_minor": 0,
  "metadata": {
    "colab": {
      "provenance": [],
      "gpuType": "T4",
      "authorship_tag": "ABX9TyPhAs5PD8dmkSqg7ziCG43/",
      "include_colab_link": true
    },
    "kernelspec": {
      "name": "python3",
      "display_name": "Python 3"
    },
    "language_info": {
      "name": "python"
    },
    "accelerator": "GPU"
  },
  "cells": [
    {
      "cell_type": "markdown",
      "metadata": {
        "id": "view-in-github",
        "colab_type": "text"
      },
      "source": [
        "<a href=\"https://colab.research.google.com/github/ander-yamamoto/dio-bairesdev/blob/main/transfer_learning.ipynb\" target=\"_parent\"><img src=\"https://colab.research.google.com/assets/colab-badge.svg\" alt=\"Open In Colab\"/></a>"
      ]
    },
    {
      "cell_type": "markdown",
      "source": [
        "## Transfer Learning with Python\n",
        "\n",
        "Based on tranfer learning tutorial in:  \n",
        "https://colab.research.google.com/github/kylemath/ml4a-guides/blob/master/notebooks/transfer-learning.ipynb"
      ],
      "metadata": {
        "id": "9yFj2z7k7D6T"
      }
    },
    {
      "cell_type": "code",
      "execution_count": 1,
      "metadata": {
        "id": "gKF6pBacyjuO",
        "colab": {
          "base_uri": "https://localhost:8080/"
        },
        "outputId": "6f975e9a-ed66-4db6-e188-a163bac17501"
      },
      "outputs": [
        {
          "output_type": "stream",
          "name": "stdout",
          "text": [
            "Collecting simple-image-download\n",
            "  Downloading simple_image_download-0.5-py3-none-any.whl.metadata (6.2 kB)\n",
            "Requirement already satisfied: tqdm in /usr/local/lib/python3.11/dist-packages (4.67.1)\n",
            "Requirement already satisfied: requests in /usr/local/lib/python3.11/dist-packages (from simple-image-download) (2.32.3)\n",
            "INFO: pip is looking at multiple versions of simple-image-download to determine which version is compatible with other requirements. This could take a while.\n",
            "  Downloading simple_image_download-0.4-py3-none-any.whl.metadata (2.4 kB)\n",
            "  Downloading simple_image_download-0.2-py3-none-any.whl.metadata (494 bytes)\n",
            "Requirement already satisfied: charset-normalizer<4,>=2 in /usr/local/lib/python3.11/dist-packages (from requests->simple-image-download) (3.4.3)\n",
            "Requirement already satisfied: idna<4,>=2.5 in /usr/local/lib/python3.11/dist-packages (from requests->simple-image-download) (3.10)\n",
            "Requirement already satisfied: urllib3<3,>=1.21.1 in /usr/local/lib/python3.11/dist-packages (from requests->simple-image-download) (2.5.0)\n",
            "Requirement already satisfied: certifi>=2017.4.17 in /usr/local/lib/python3.11/dist-packages (from requests->simple-image-download) (2025.8.3)\n",
            "Downloading simple_image_download-0.2-py3-none-any.whl (3.8 kB)\n",
            "Installing collected packages: simple-image-download\n",
            "Successfully installed simple-image-download-0.2\n"
          ]
        }
      ],
      "source": [
        "# =========================================\n",
        "# 1. Imports e Configurações\n",
        "# =========================================\n",
        "%matplotlib inline\n",
        "\n",
        "import os\n",
        "import random\n",
        "import numpy as np\n",
        "import matplotlib.pyplot as plt\n",
        "from matplotlib.pyplot import imshow\n",
        "\n",
        "import keras\n",
        "from keras.preprocessing import image\n",
        "from keras.applications.imagenet_utils import preprocess_input, decode_predictions\n",
        "from keras.models import Model\n",
        "from keras.layers import Dense\n",
        "from keras.utils import to_categorical\n",
        "from tensorflow.keras.preprocessing.image import ImageDataGenerator\n",
        "from tensorflow.keras.optimizers import Adam\n",
        "\n",
        "!pip install simple-image-download tqdm\n",
        "\n",
        "from simple_image_download import simple_image_download as simp\n",
        "from tqdm import tqdm\n",
        "import requests"
      ]
    },
    {
      "cell_type": "code",
      "source": [
        "# =========================================\n",
        "# 2. Função para baixar imagens\n",
        "# =========================================\n",
        "def download_with_progress(query, num_images):\n",
        "    downloader = simp.simple_image_download()\n",
        "    links = downloader.urls(query, num_images)  # pega URLs sem baixar ainda\n",
        "\n",
        "    save_dir = os.path.join(\"simple_images\", query)\n",
        "    os.makedirs(save_dir, exist_ok=True)\n",
        "\n",
        "    for url in tqdm(links, desc=f\"Baixando {query}\"):\n",
        "        try:\n",
        "            img_data = requests.get(url, timeout=5).content\n",
        "            file_name = os.path.join(save_dir, os.path.basename(url.split(\"?\")[0]))\n",
        "            with open(file_name, \"wb\") as f:\n",
        "                f.write(img_data)\n",
        "        except:\n",
        "            pass  # ignora erros"
      ],
      "metadata": {
        "id": "jpILSGPx7Qpn"
      },
      "execution_count": 2,
      "outputs": []
    },
    {
      "cell_type": "code",
      "source": [
        "# =========================================\n",
        "# 3. Baixar Dataset\n",
        "# =========================================\n",
        "\n",
        "cat1 = \"Bulbassaur\"\n",
        "cat2 = \"Charmander\"\n",
        "\n",
        "if not os.path.exists(os.path.join('simple_images', cat1)):\n",
        "    download_with_progress(cat1, 300)\n",
        "else:\n",
        "    print(f\"Banco de imagens de {cat1} já existe. Pulando download.\")\n",
        "\n",
        "if not os.path.exists(os.path.join('simple_images', cat2)):\n",
        "    download_with_progress(cat2, 300)\n",
        "else:\n",
        "    print(f\"Banco de imagens de {cat2} já existe. Pulando download.\")\n",
        "\n",
        "# Listar categorias existentes\n",
        "root = 'simple_images'\n",
        "categories = [\n",
        "    os.path.join(root, c)\n",
        "    for c in os.listdir(root)\n",
        "    if os.path.isdir(os.path.join(root, c))\n",
        "]\n",
        "print(\"Categorias:\", categories)"
      ],
      "metadata": {
        "colab": {
          "base_uri": "https://localhost:8080/"
        },
        "id": "6k_bOjiz7RjI",
        "outputId": "8f97be13-11bc-4018-8d71-8e184c1b1226"
      },
      "execution_count": 3,
      "outputs": [
        {
          "output_type": "stream",
          "name": "stderr",
          "text": [
            "Baixando Bulbassaur: 100%|██████████| 300/300 [02:19<00:00,  2.15it/s]\n",
            "Baixando Charmander: 100%|██████████| 300/300 [01:28<00:00,  3.40it/s]"
          ]
        },
        {
          "output_type": "stream",
          "name": "stdout",
          "text": [
            "Categorias: ['simple_images/Bulbassaur', 'simple_images/Charmander']\n"
          ]
        },
        {
          "output_type": "stream",
          "name": "stderr",
          "text": [
            "\n"
          ]
        }
      ]
    },
    {
      "cell_type": "code",
      "source": [
        "# =========================================\n",
        "# 4. Função para carregar imagens\n",
        "# =========================================\n",
        "def get_image(path):\n",
        "    img = image.load_img(path, target_size=(224, 224))\n",
        "    x = image.img_to_array(img)\n",
        "    x = preprocess_input(x)\n",
        "    return img, x\n"
      ],
      "metadata": {
        "id": "W5zORy377UZK"
      },
      "execution_count": 4,
      "outputs": []
    },
    {
      "cell_type": "code",
      "source": [
        "# =========================================\n",
        "# 5. Montar dataset com limite por classe\n",
        "# =========================================\n",
        "data = []\n",
        "max_images_per_class = 250\n",
        "\n",
        "for c, category in enumerate(categories):\n",
        "    images = [\n",
        "        os.path.join(dp, f)\n",
        "        for dp, dn, filenames in os.walk(category)\n",
        "        for f in filenames\n",
        "        if os.path.splitext(f)[1].lower() in ['.jpg', '.png', '.jpeg']\n",
        "    ]\n",
        "    random.shuffle(images)\n",
        "    for i, img_path in enumerate(images[:max_images_per_class]):\n",
        "        try:\n",
        "            img, x = get_image(img_path)\n",
        "            data.append({'x': x, 'y': c})\n",
        "        except:\n",
        "            pass\n",
        "\n",
        "random.shuffle(data)\n",
        "num_classes = len(categories)"
      ],
      "metadata": {
        "id": "eTCt4nPs7Ydq",
        "outputId": "84ba6cb1-1083-4e60-9034-5d07c6bab584",
        "colab": {
          "base_uri": "https://localhost:8080/"
        }
      },
      "execution_count": 5,
      "outputs": [
        {
          "output_type": "stream",
          "name": "stderr",
          "text": [
            "/usr/local/lib/python3.11/dist-packages/PIL/Image.py:1047: UserWarning: Palette images with Transparency expressed in bytes should be converted to RGBA images\n",
            "  warnings.warn(\n"
          ]
        }
      ]
    },
    {
      "cell_type": "code",
      "source": [
        "# =========================================\n",
        "# 6. Separar treino / validação / teste\n",
        "# =========================================\n",
        "train_split, val_split = 0.7, 0.15\n",
        "idx_val = int(train_split * len(data))\n",
        "idx_test = int((train_split + val_split) * len(data))\n",
        "\n",
        "train = data[:idx_val]\n",
        "val = data[idx_val:idx_test]\n",
        "test = data[idx_test:]\n",
        "\n",
        "x_train, y_train = np.array([t[\"x\"] for t in train]), [t[\"y\"] for t in train]\n",
        "x_val, y_val = np.array([t[\"x\"] for t in val]), [t[\"y\"] for t in val]\n",
        "x_test, y_test = np.array([t[\"x\"] for t in test]), [t[\"y\"] for t in test]\n",
        "\n",
        "y_train = to_categorical(y_train, num_classes)\n",
        "y_val = to_categorical(y_val, num_classes)\n",
        "y_test = to_categorical(y_test, num_classes)\n",
        "\n",
        "print(f\"Train: {x_train.shape}, Val: {x_val.shape}, Test: {x_test.shape}\")"
      ],
      "metadata": {
        "colab": {
          "base_uri": "https://localhost:8080/"
        },
        "id": "9PI4ZxIu7an1",
        "outputId": "9b2989b8-df96-49f8-ccf0-fdcf0e3c66d2"
      },
      "execution_count": 6,
      "outputs": [
        {
          "output_type": "stream",
          "name": "stdout",
          "text": [
            "Train: (88, 224, 224, 3), Val: (19, 224, 224, 3), Test: (20, 224, 224, 3)\n"
          ]
        }
      ]
    },
    {
      "cell_type": "code",
      "source": [
        "# =========================================\n",
        "# 7. Data Augmentation para treino\n",
        "# =========================================\n",
        "datagen = ImageDataGenerator(\n",
        "    rotation_range=20,\n",
        "    width_shift_range=0.2,\n",
        "    height_shift_range=0.2,\n",
        "    shear_range=0.2,\n",
        "    zoom_range=0.2,\n",
        "    horizontal_flip=True\n",
        ")\n",
        "datagen.fit(x_train)"
      ],
      "metadata": {
        "id": "p_KtKxqg7ciU"
      },
      "execution_count": 7,
      "outputs": []
    },
    {
      "cell_type": "code",
      "source": [
        "# =========================================\n",
        "# 8. Carregar VGG16 pré-treinada\n",
        "# =========================================\n",
        "vgg = keras.applications.VGG16(weights='imagenet', include_top=True)\n",
        "\n",
        "# Trocar última camada\n",
        "new_classification_layer = Dense(num_classes, activation='softmax')\n",
        "out = new_classification_layer(vgg.layers[-2].output)\n",
        "model_new = Model(inputs=vgg.input, outputs=out)\n",
        "\n",
        "# Congelar todas as camadas menos a última\n",
        "for layer in model_new.layers[:-1]:\n",
        "    layer.trainable = False\n",
        "model_new.layers[-1].trainable = True\n",
        "\n",
        "# Compilar e treinar fase 1\n",
        "model_new.compile(loss='categorical_crossentropy',\n",
        "                  optimizer='adam',\n",
        "                  metrics=['accuracy'])\n",
        "\n",
        "history1 = model_new.fit(\n",
        "    datagen.flow(x_train, y_train, batch_size=32),\n",
        "    validation_data=(x_val, y_val),\n",
        "    epochs=10\n",
        ")"
      ],
      "metadata": {
        "colab": {
          "base_uri": "https://localhost:8080/"
        },
        "id": "3TfK-GdO7e1e",
        "outputId": "4ec3debd-c5d8-4f79-ed20-ad6285357f9e"
      },
      "execution_count": 8,
      "outputs": [
        {
          "output_type": "stream",
          "name": "stdout",
          "text": [
            "Downloading data from https://storage.googleapis.com/tensorflow/keras-applications/vgg16/vgg16_weights_tf_dim_ordering_tf_kernels.h5\n",
            "\u001b[1m553467096/553467096\u001b[0m \u001b[32m━━━━━━━━━━━━━━━━━━━━\u001b[0m\u001b[37m\u001b[0m \u001b[1m26s\u001b[0m 0us/step\n"
          ]
        },
        {
          "output_type": "stream",
          "name": "stderr",
          "text": [
            "/usr/local/lib/python3.11/dist-packages/keras/src/trainers/data_adapters/py_dataset_adapter.py:121: UserWarning: Your `PyDataset` class should call `super().__init__(**kwargs)` in its constructor. `**kwargs` can include `workers`, `use_multiprocessing`, `max_queue_size`. Do not pass these arguments to `fit()`, as they will be ignored.\n",
            "  self._warn_if_super_not_called()\n"
          ]
        },
        {
          "output_type": "stream",
          "name": "stdout",
          "text": [
            "Epoch 1/10\n",
            "\u001b[1m3/3\u001b[0m \u001b[32m━━━━━━━━━━━━━━━━━━━━\u001b[0m\u001b[37m\u001b[0m \u001b[1m35s\u001b[0m 10s/step - accuracy: 0.5601 - loss: 1.1282 - val_accuracy: 0.5789 - val_loss: 0.9051\n",
            "Epoch 2/10\n",
            "\u001b[1m3/3\u001b[0m \u001b[32m━━━━━━━━━━━━━━━━━━━━\u001b[0m\u001b[37m\u001b[0m \u001b[1m1s\u001b[0m 400ms/step - accuracy: 0.7437 - loss: 0.5016 - val_accuracy: 0.6316 - val_loss: 0.4965\n",
            "Epoch 3/10\n",
            "\u001b[1m3/3\u001b[0m \u001b[32m━━━━━━━━━━━━━━━━━━━━\u001b[0m\u001b[37m\u001b[0m \u001b[1m1s\u001b[0m 464ms/step - accuracy: 0.8920 - loss: 0.2825 - val_accuracy: 0.8421 - val_loss: 0.3538\n",
            "Epoch 4/10\n",
            "\u001b[1m3/3\u001b[0m \u001b[32m━━━━━━━━━━━━━━━━━━━━\u001b[0m\u001b[37m\u001b[0m \u001b[1m1s\u001b[0m 463ms/step - accuracy: 0.9171 - loss: 0.2289 - val_accuracy: 0.7368 - val_loss: 0.4217\n",
            "Epoch 5/10\n",
            "\u001b[1m3/3\u001b[0m \u001b[32m━━━━━━━━━━━━━━━━━━━━\u001b[0m\u001b[37m\u001b[0m \u001b[1m1s\u001b[0m 410ms/step - accuracy: 0.9426 - loss: 0.1217 - val_accuracy: 0.6842 - val_loss: 0.5400\n",
            "Epoch 6/10\n",
            "\u001b[1m3/3\u001b[0m \u001b[32m━━━━━━━━━━━━━━━━━━━━\u001b[0m\u001b[37m\u001b[0m \u001b[1m2s\u001b[0m 573ms/step - accuracy: 0.9390 - loss: 0.1361 - val_accuracy: 0.7895 - val_loss: 0.3750\n",
            "Epoch 7/10\n",
            "\u001b[1m3/3\u001b[0m \u001b[32m━━━━━━━━━━━━━━━━━━━━\u001b[0m\u001b[37m\u001b[0m \u001b[1m2s\u001b[0m 596ms/step - accuracy: 0.9738 - loss: 0.0791 - val_accuracy: 0.8421 - val_loss: 0.2922\n",
            "Epoch 8/10\n",
            "\u001b[1m3/3\u001b[0m \u001b[32m━━━━━━━━━━━━━━━━━━━━\u001b[0m\u001b[37m\u001b[0m \u001b[1m1s\u001b[0m 424ms/step - accuracy: 0.9605 - loss: 0.0880 - val_accuracy: 0.8947 - val_loss: 0.2892\n",
            "Epoch 9/10\n",
            "\u001b[1m3/3\u001b[0m \u001b[32m━━━━━━━━━━━━━━━━━━━━\u001b[0m\u001b[37m\u001b[0m \u001b[1m1s\u001b[0m 401ms/step - accuracy: 0.9499 - loss: 0.1537 - val_accuracy: 0.8421 - val_loss: 0.3502\n",
            "Epoch 10/10\n",
            "\u001b[1m3/3\u001b[0m \u001b[32m━━━━━━━━━━━━━━━━━━━━\u001b[0m\u001b[37m\u001b[0m \u001b[1m1s\u001b[0m 393ms/step - accuracy: 0.9656 - loss: 0.0643 - val_accuracy: 0.8421 - val_loss: 0.3672\n"
          ]
        }
      ]
    },
    {
      "cell_type": "code",
      "source": [
        "# =========================================\n",
        "# 10. Avaliação final\n",
        "# =========================================\n",
        "loss, accuracy = model_new.evaluate(x_test, y_test, verbose=0)\n",
        "print('Test loss:', loss)\n",
        "print('Test accuracy:', accuracy)"
      ],
      "metadata": {
        "colab": {
          "base_uri": "https://localhost:8080/"
        },
        "id": "kAgVuPRz7jc1",
        "outputId": "f3dcb0bd-6550-4efd-df3e-1e4301aead8b"
      },
      "execution_count": 9,
      "outputs": [
        {
          "output_type": "stream",
          "name": "stdout",
          "text": [
            "Test loss: 0.06487567722797394\n",
            "Test accuracy: 1.0\n"
          ]
        }
      ]
    },
    {
      "cell_type": "code",
      "source": [
        "# =========================================\n",
        "# 11. Plotar métricas\n",
        "# =========================================\n",
        "plt.figure(figsize=(12,4))\n",
        "plt.subplot(1,2,1)\n",
        "plt.plot(history1.history['val_accuracy'])\n",
        "plt.title(\"Validation Accuracy\")\n",
        "plt.xlabel(\"Epochs\")\n",
        "plt.ylim(0, 1)\n",
        "\n",
        "plt.subplot(1,2,2)\n",
        "plt.plot(history1.history['val_loss'])\n",
        "plt.title(\"Validation Loss\")\n",
        "plt.xlabel(\"Epochs\")\n",
        "\n",
        "plt.show()"
      ],
      "metadata": {
        "colab": {
          "base_uri": "https://localhost:8080/",
          "height": 410
        },
        "id": "CH9OMkQ57k40",
        "outputId": "6e8ed335-182f-4b80-b054-d7502bc45ddf"
      },
      "execution_count": 10,
      "outputs": [
        {
          "output_type": "display_data",
          "data": {
            "text/plain": [
              "<Figure size 1200x400 with 2 Axes>"
            ],
            "image/png": "[encoded data removed]"
          },
          "metadata": {}
        }
      ]
    }
  ]
}