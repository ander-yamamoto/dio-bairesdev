{
  "nbformat": 4,
  "nbformat_minor": 0,
  "metadata": {
    "colab": {
      "provenance": [],
      "gpuType": "T4",
      "authorship_tag": "ABX9TyN8nXp7OfreHvTULVwqyA4h",
      "include_colab_link": true
    },
    "kernelspec": {
      "name": "python3",
      "display_name": "Python 3"
    },
    "language_info": {
      "name": "python"
    },
    "accelerator": "GPU"
  },
  "cells": [
    {
      "cell_type": "markdown",
      "metadata": {
        "id": "view-in-github",
        "colab_type": "text"
      },
      "source": [
        "<a href=\"https://colab.research.google.com/github/ander-yamamoto/transfer-learning/blob/main/transfer_learning.ipynb\" target=\"_parent\"><img src=\"https://colab.research.google.com/assets/colab-badge.svg\" alt=\"Open In Colab\"/></a>"
      ]
    },
    {
      "cell_type": "markdown",
      "source": [
        "## Transfer Learning with Python\n",
        "\n",
        "Based on tranfer learning tutorial in:  \n",
        "https://colab.research.google.com/github/kylemath/ml4a-guides/blob/master/notebooks/transfer-learning.ipynb"
      ],
      "metadata": {
        "id": "9yFj2z7k7D6T"
      }
    },
    {
      "cell_type": "code",
      "execution_count": 15,
      "metadata": {
        "id": "gKF6pBacyjuO",
        "colab": {
          "base_uri": "https://localhost:8080/"
        },
        "outputId": "4be053de-6fca-416a-8084-24d46f7c9fe4"
      },
      "outputs": [
        {
          "output_type": "stream",
          "name": "stdout",
          "text": [
            "Requirement already satisfied: simple-image-download in /usr/local/lib/python3.11/dist-packages (0.2)\n",
            "Requirement already satisfied: tqdm in /usr/local/lib/python3.11/dist-packages (4.67.1)\n",
            "Requirement already satisfied: requests in /usr/local/lib/python3.11/dist-packages (from simple-image-download) (2.32.3)\n",
            "Requirement already satisfied: charset-normalizer<4,>=2 in /usr/local/lib/python3.11/dist-packages (from requests->simple-image-download) (3.4.3)\n",
            "Requirement already satisfied: idna<4,>=2.5 in /usr/local/lib/python3.11/dist-packages (from requests->simple-image-download) (3.10)\n",
            "Requirement already satisfied: urllib3<3,>=1.21.1 in /usr/local/lib/python3.11/dist-packages (from requests->simple-image-download) (2.5.0)\n",
            "Requirement already satisfied: certifi>=2017.4.17 in /usr/local/lib/python3.11/dist-packages (from requests->simple-image-download) (2025.8.3)\n"
          ]
        }
      ],
      "source": [
        "# =========================================\n",
        "# 1. Imports e Configurações\n",
        "# =========================================\n",
        "%matplotlib inline\n",
        "\n",
        "import os\n",
        "import random\n",
        "import numpy as np\n",
        "import matplotlib.pyplot as plt\n",
        "from matplotlib.pyplot import imshow\n",
        "\n",
        "import keras\n",
        "from keras.preprocessing import image\n",
        "from keras.applications.imagenet_utils import preprocess_input, decode_predictions\n",
        "from keras.models import Model\n",
        "from keras.layers import Dense\n",
        "from keras.utils import to_categorical\n",
        "from tensorflow.keras.preprocessing.image import ImageDataGenerator\n",
        "from tensorflow.keras.optimizers import Adam\n",
        "\n",
        "!pip install simple-image-download tqdm\n",
        "\n",
        "from simple_image_download import simple_image_download as simp\n",
        "from tqdm import tqdm\n",
        "import requests"
      ]
    },
    {
      "cell_type": "code",
      "source": [
        "# =========================================\n",
        "# 2. Função para baixar imagens\n",
        "# =========================================\n",
        "def download_with_progress(query, num_images):\n",
        "    downloader = simp.simple_image_download()\n",
        "    links = downloader.urls(query, num_images)  # pega URLs sem baixar ainda\n",
        "\n",
        "    save_dir = os.path.join(\"simple_images\", query)\n",
        "    os.makedirs(save_dir, exist_ok=True)\n",
        "\n",
        "    for url in tqdm(links, desc=f\"Baixando {query}\"):\n",
        "        try:\n",
        "            img_data = requests.get(url, timeout=5).content\n",
        "            file_name = os.path.join(save_dir, os.path.basename(url.split(\"?\")[0]))\n",
        "            with open(file_name, \"wb\") as f:\n",
        "                f.write(img_data)\n",
        "        except:\n",
        "            pass  # ignora erros"
      ],
      "metadata": {
        "id": "jpILSGPx7Qpn"
      },
      "execution_count": 16,
      "outputs": []
    },
    {
      "cell_type": "code",
      "source": [
        "# =========================================\n",
        "# 3. Baixar Dataset (Will Smith vs Jim Carrey)\n",
        "# =========================================\n",
        "if not os.path.exists(os.path.join('simple_images', 'Will Smith')):\n",
        "    download_with_progress(\"Will Smith\", 300)\n",
        "else:\n",
        "    print(\"Banco de imagens de Will Smith já existe. Pulando download.\")\n",
        "\n",
        "if not os.path.exists(os.path.join('simple_images', 'Jim Carrey')):\n",
        "    download_with_progress(\"Jim Carrey\", 300)\n",
        "else:\n",
        "    print(\"Banco de imagens de Jim Carrey já existe. Pulando download.\")\n",
        "\n",
        "# Listar categorias existentes\n",
        "root = 'simple_images'\n",
        "categories = [\n",
        "    os.path.join(root, c)\n",
        "    for c in os.listdir(root)\n",
        "    if os.path.isdir(os.path.join(root, c))\n",
        "]\n",
        "print(\"Categorias:\", categories)"
      ],
      "metadata": {
        "colab": {
          "base_uri": "https://localhost:8080/"
        },
        "id": "6k_bOjiz7RjI",
        "outputId": "ef0ec330-3d10-4ac6-d6f2-33a9901b5a19"
      },
      "execution_count": 17,
      "outputs": [
        {
          "output_type": "stream",
          "name": "stdout",
          "text": [
            "Banco de imagens de Will Smith já existe. Pulando download.\n",
            "Banco de imagens de Jim Carrey já existe. Pulando download.\n",
            "Categorias: ['simple_images/Will Smith', 'simple_images/Jim Carrey']\n"
          ]
        }
      ]
    },
    {
      "cell_type": "code",
      "source": [
        "# =========================================\n",
        "# 4. Função para carregar imagens\n",
        "# =========================================\n",
        "def get_image(path):\n",
        "    img = image.load_img(path, target_size=(224, 224))\n",
        "    x = image.img_to_array(img)\n",
        "    x = preprocess_input(x)\n",
        "    return img, x\n"
      ],
      "metadata": {
        "id": "W5zORy377UZK"
      },
      "execution_count": 18,
      "outputs": []
    },
    {
      "cell_type": "code",
      "source": [
        "# =========================================\n",
        "# 5. Montar dataset com limite por classe\n",
        "# =========================================\n",
        "data = []\n",
        "max_images_per_class = 250\n",
        "\n",
        "for c, category in enumerate(categories):\n",
        "    images = [\n",
        "        os.path.join(dp, f)\n",
        "        for dp, dn, filenames in os.walk(category)\n",
        "        for f in filenames\n",
        "        if os.path.splitext(f)[1].lower() in ['.jpg', '.png', '.jpeg']\n",
        "    ]\n",
        "    random.shuffle(images)\n",
        "    for i, img_path in enumerate(images[:max_images_per_class]):\n",
        "        try:\n",
        "            img, x = get_image(img_path)\n",
        "            data.append({'x': x, 'y': c})\n",
        "        except:\n",
        "            pass\n",
        "\n",
        "random.shuffle(data)\n",
        "num_classes = len(categories)"
      ],
      "metadata": {
        "id": "eTCt4nPs7Ydq"
      },
      "execution_count": 19,
      "outputs": []
    },
    {
      "cell_type": "code",
      "source": [
        "# =========================================\n",
        "# 6. Separar treino / validação / teste\n",
        "# =========================================\n",
        "train_split, val_split = 0.7, 0.15\n",
        "idx_val = int(train_split * len(data))\n",
        "idx_test = int((train_split + val_split) * len(data))\n",
        "\n",
        "train = data[:idx_val]\n",
        "val = data[idx_val:idx_test]\n",
        "test = data[idx_test:]\n",
        "\n",
        "x_train, y_train = np.array([t[\"x\"] for t in train]), [t[\"y\"] for t in train]\n",
        "x_val, y_val = np.array([t[\"x\"] for t in val]), [t[\"y\"] for t in val]\n",
        "x_test, y_test = np.array([t[\"x\"] for t in test]), [t[\"y\"] for t in test]\n",
        "\n",
        "y_train = to_categorical(y_train, num_classes)\n",
        "y_val = to_categorical(y_val, num_classes)\n",
        "y_test = to_categorical(y_test, num_classes)\n",
        "\n",
        "print(f\"Train: {x_train.shape}, Val: {x_val.shape}, Test: {x_test.shape}\")"
      ],
      "metadata": {
        "colab": {
          "base_uri": "https://localhost:8080/"
        },
        "id": "9PI4ZxIu7an1",
        "outputId": "8d993c18-9d0c-4670-9568-ae873b094a20"
      },
      "execution_count": 20,
      "outputs": [
        {
          "output_type": "stream",
          "name": "stdout",
          "text": [
            "Train: (90, 224, 224, 3), Val: (19, 224, 224, 3), Test: (20, 224, 224, 3)\n"
          ]
        }
      ]
    },
    {
      "cell_type": "code",
      "source": [
        "# =========================================\n",
        "# 7. Data Augmentation para treino\n",
        "# =========================================\n",
        "datagen = ImageDataGenerator(\n",
        "    rotation_range=20,\n",
        "    width_shift_range=0.2,\n",
        "    height_shift_range=0.2,\n",
        "    shear_range=0.2,\n",
        "    zoom_range=0.2,\n",
        "    horizontal_flip=True\n",
        ")\n",
        "datagen.fit(x_train)"
      ],
      "metadata": {
        "id": "p_KtKxqg7ciU"
      },
      "execution_count": 21,
      "outputs": []
    },
    {
      "cell_type": "code",
      "source": [
        "# =========================================\n",
        "# 8. Carregar VGG16 pré-treinada\n",
        "# =========================================\n",
        "vgg = keras.applications.VGG16(weights='imagenet', include_top=True)\n",
        "\n",
        "# Trocar última camada\n",
        "new_classification_layer = Dense(num_classes, activation='softmax')\n",
        "out = new_classification_layer(vgg.layers[-2].output)\n",
        "model_new = Model(inputs=vgg.input, outputs=out)\n",
        "\n",
        "# Congelar todas as camadas menos a última\n",
        "for layer in model_new.layers[:-1]:\n",
        "    layer.trainable = False\n",
        "model_new.layers[-1].trainable = True\n",
        "\n",
        "# Compilar e treinar fase 1\n",
        "model_new.compile(loss='categorical_crossentropy',\n",
        "                  optimizer='adam',\n",
        "                  metrics=['accuracy'])\n",
        "\n",
        "history1 = model_new.fit(\n",
        "    datagen.flow(x_train, y_train, batch_size=32),\n",
        "    validation_data=(x_val, y_val),\n",
        "    epochs=10\n",
        ")"
      ],
      "metadata": {
        "colab": {
          "base_uri": "https://localhost:8080/"
        },
        "id": "3TfK-GdO7e1e",
        "outputId": "c2216577-43eb-4c16-dd61-6028ed5fe96d"
      },
      "execution_count": 22,
      "outputs": [
        {
          "output_type": "stream",
          "name": "stdout",
          "text": [
            "Epoch 1/10\n",
            "\u001b[1m3/3\u001b[0m \u001b[32m━━━━━━━━━━━━━━━━━━━━\u001b[0m\u001b[37m\u001b[0m \u001b[1m10s\u001b[0m 3s/step - accuracy: 0.6022 - loss: 0.9282 - val_accuracy: 0.6842 - val_loss: 0.5665\n",
            "Epoch 2/10\n",
            "\u001b[1m3/3\u001b[0m \u001b[32m━━━━━━━━━━━━━━━━━━━━\u001b[0m\u001b[37m\u001b[0m \u001b[1m3s\u001b[0m 764ms/step - accuracy: 0.6429 - loss: 0.7612 - val_accuracy: 0.6316 - val_loss: 0.7503\n",
            "Epoch 3/10\n",
            "\u001b[1m3/3\u001b[0m \u001b[32m━━━━━━━━━━━━━━━━━━━━\u001b[0m\u001b[37m\u001b[0m \u001b[1m1s\u001b[0m 391ms/step - accuracy: 0.6862 - loss: 0.5148 - val_accuracy: 0.5789 - val_loss: 0.7604\n",
            "Epoch 4/10\n",
            "\u001b[1m3/3\u001b[0m \u001b[32m━━━━━━━━━━━━━━━━━━━━\u001b[0m\u001b[37m\u001b[0m \u001b[1m1s\u001b[0m 382ms/step - accuracy: 0.8174 - loss: 0.3435 - val_accuracy: 0.6842 - val_loss: 0.4281\n",
            "Epoch 5/10\n",
            "\u001b[1m3/3\u001b[0m \u001b[32m━━━━━━━━━━━━━━━━━━━━\u001b[0m\u001b[37m\u001b[0m \u001b[1m1s\u001b[0m 425ms/step - accuracy: 0.8073 - loss: 0.3815 - val_accuracy: 0.7368 - val_loss: 0.4982\n",
            "Epoch 6/10\n",
            "\u001b[1m3/3\u001b[0m \u001b[32m━━━━━━━━━━━━━━━━━━━━\u001b[0m\u001b[37m\u001b[0m \u001b[1m1s\u001b[0m 406ms/step - accuracy: 0.9106 - loss: 0.2294 - val_accuracy: 0.6842 - val_loss: 0.7864\n",
            "Epoch 7/10\n",
            "\u001b[1m3/3\u001b[0m \u001b[32m━━━━━━━━━━━━━━━━━━━━\u001b[0m\u001b[37m\u001b[0m \u001b[1m1s\u001b[0m 403ms/step - accuracy: 0.9317 - loss: 0.1852 - val_accuracy: 0.6316 - val_loss: 0.9154\n",
            "Epoch 8/10\n",
            "\u001b[1m3/3\u001b[0m \u001b[32m━━━━━━━━━━━━━━━━━━━━\u001b[0m\u001b[37m\u001b[0m \u001b[1m1s\u001b[0m 425ms/step - accuracy: 0.8857 - loss: 0.2431 - val_accuracy: 0.7368 - val_loss: 0.7259\n",
            "Epoch 9/10\n",
            "\u001b[1m3/3\u001b[0m \u001b[32m━━━━━━━━━━━━━━━━━━━━\u001b[0m\u001b[37m\u001b[0m \u001b[1m1s\u001b[0m 403ms/step - accuracy: 0.9414 - loss: 0.1416 - val_accuracy: 0.7895 - val_loss: 0.5924\n",
            "Epoch 10/10\n",
            "\u001b[1m3/3\u001b[0m \u001b[32m━━━━━━━━━━━━━━━━━━━━\u001b[0m\u001b[37m\u001b[0m \u001b[1m2s\u001b[0m 532ms/step - accuracy: 0.9515 - loss: 0.1396 - val_accuracy: 0.7368 - val_loss: 0.5948\n"
          ]
        }
      ]
    },
    {
      "cell_type": "code",
      "source": [
        "# =========================================\n",
        "# 10. Avaliação final\n",
        "# =========================================\n",
        "loss, accuracy = model_new.evaluate(x_test, y_test, verbose=0)\n",
        "print('Test loss:', loss)\n",
        "print('Test accuracy:', accuracy)"
      ],
      "metadata": {
        "colab": {
          "base_uri": "https://localhost:8080/"
        },
        "id": "kAgVuPRz7jc1",
        "outputId": "4c6b09af-05c1-4ea0-da46-2e662ffcdf92"
      },
      "execution_count": 23,
      "outputs": [
        {
          "output_type": "stream",
          "name": "stdout",
          "text": [
            "Test loss: 0.8324586749076843\n",
            "Test accuracy: 0.699999988079071\n"
          ]
        }
      ]
    },
    {
      "cell_type": "code",
      "source": [
        "# =========================================\n",
        "# 11. Plotar métricas\n",
        "# =========================================\n",
        "plt.figure(figsize=(12,4))\n",
        "plt.subplot(1,2,1)\n",
        "plt.plot(history1.history['val_accuracy'])\n",
        "plt.title(\"Validation Accuracy\")\n",
        "plt.xlabel(\"Epochs\")\n",
        "plt.ylim(0, 1)\n",
        "\n",
        "plt.subplot(1,2,2)\n",
        "plt.plot(history1.history['val_loss'])\n",
        "plt.title(\"Validation Loss\")\n",
        "plt.xlabel(\"Epochs\")\n",
        "\n",
        "plt.show()"
      ],
      "metadata": {
        "colab": {
          "base_uri": "https://localhost:8080/",
          "height": 410
        },
        "id": "CH9OMkQ57k40",
        "outputId": "29cf93cf-4685-44e8-8ff6-ab1f8fe97ad7"
      },
      "execution_count": 25,
      "outputs": [
        {
          "output_type": "display_data",
          "data": {
            "text/plain": [
              "<Figure size 1200x400 with 2 Axes>"
            ],
            "image/png": "[encoded data removed]"
          },
          "metadata": {}
        }
      ]
    }
  ]
}