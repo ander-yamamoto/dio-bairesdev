{
  "nbformat": 4,
  "nbformat_minor": 0,
  "metadata": {
    "colab": {
      "provenance": [],
      "gpuType": "T4",
      "authorship_tag": "ABX9TyOCiNIHWmCAK9atp8NVoiDB",
      "include_colab_link": true
    },
    "kernelspec": {
      "name": "python3",
      "display_name": "Python 3"
    },
    "language_info": {
      "name": "python"
    },
    "accelerator": "GPU"
  },
  "cells": [
    {
      "cell_type": "markdown",
      "metadata": {
        "id": "view-in-github",
        "colab_type": "text"
      },
      "source": [
        "<a href=\"https://colab.research.google.com/github/ander-yamamoto/transfer-learning/blob/main/transfer_learning.ipynb\" target=\"_parent\"><img src=\"https://colab.research.google.com/assets/colab-badge.svg\" alt=\"Open In Colab\"/></a>"
      ]
    },
    {
      "cell_type": "markdown",
      "source": [
        "## Transfer Learning with Python\n",
        "\n",
        "Based on tranfer learning tutorial in:  \n",
        "https://colab.research.google.com/github/kylemath/ml4a-guides/blob/master/notebooks/transfer-learning.ipynb"
      ],
      "metadata": {
        "id": "9yFj2z7k7D6T"
      }
    },
    {
      "cell_type": "code",
      "execution_count": 1,
      "metadata": {
        "id": "gKF6pBacyjuO",
        "outputId": "f530e9ec-1760-4a30-82b3-90b29194ce09",
        "colab": {
          "base_uri": "https://localhost:8080/"
        }
      },
      "outputs": [
        {
          "output_type": "stream",
          "name": "stdout",
          "text": [
            "Collecting simple-image-download\n",
            "  Downloading simple_image_download-0.5-py3-none-any.whl.metadata (6.2 kB)\n",
            "Requirement already satisfied: tqdm in /usr/local/lib/python3.11/dist-packages (4.67.1)\n",
            "Requirement already satisfied: requests in /usr/local/lib/python3.11/dist-packages (from simple-image-download) (2.32.3)\n",
            "INFO: pip is looking at multiple versions of simple-image-download to determine which version is compatible with other requirements. This could take a while.\n",
            "  Downloading simple_image_download-0.4-py3-none-any.whl.metadata (2.4 kB)\n",
            "  Downloading simple_image_download-0.2-py3-none-any.whl.metadata (494 bytes)\n",
            "Requirement already satisfied: charset-normalizer<4,>=2 in /usr/local/lib/python3.11/dist-packages (from requests->simple-image-download) (3.4.3)\n",
            "Requirement already satisfied: idna<4,>=2.5 in /usr/local/lib/python3.11/dist-packages (from requests->simple-image-download) (3.10)\n",
            "Requirement already satisfied: urllib3<3,>=1.21.1 in /usr/local/lib/python3.11/dist-packages (from requests->simple-image-download) (2.5.0)\n",
            "Requirement already satisfied: certifi>=2017.4.17 in /usr/local/lib/python3.11/dist-packages (from requests->simple-image-download) (2025.8.3)\n",
            "Downloading simple_image_download-0.2-py3-none-any.whl (3.8 kB)\n",
            "Installing collected packages: simple-image-download\n",
            "Successfully installed simple-image-download-0.2\n"
          ]
        }
      ],
      "source": [
        "# =========================================\n",
        "# 1. Imports e Configurações\n",
        "# =========================================\n",
        "%matplotlib inline\n",
        "\n",
        "import os\n",
        "import random\n",
        "import numpy as np\n",
        "import matplotlib.pyplot as plt\n",
        "from matplotlib.pyplot import imshow\n",
        "\n",
        "import keras\n",
        "from keras.preprocessing import image\n",
        "from keras.applications.imagenet_utils import preprocess_input, decode_predictions\n",
        "from keras.models import Model\n",
        "from keras.layers import Dense\n",
        "from keras.utils import to_categorical\n",
        "from tensorflow.keras.preprocessing.image import ImageDataGenerator\n",
        "from tensorflow.keras.optimizers import Adam\n",
        "\n",
        "!pip install simple-image-download tqdm\n",
        "\n",
        "from simple_image_download import simple_image_download as simp\n",
        "from tqdm import tqdm\n",
        "import requests"
      ]
    },
    {
      "cell_type": "code",
      "source": [
        "# =========================================\n",
        "# 2. Função para baixar imagens\n",
        "# =========================================\n",
        "def download_with_progress(query, num_images):\n",
        "    downloader = simp.simple_image_download()\n",
        "    links = downloader.urls(query, num_images)  # pega URLs sem baixar ainda\n",
        "\n",
        "    save_dir = os.path.join(\"simple_images\", query)\n",
        "    os.makedirs(save_dir, exist_ok=True)\n",
        "\n",
        "    for url in tqdm(links, desc=f\"Baixando {query}\"):\n",
        "        try:\n",
        "            img_data = requests.get(url, timeout=5).content\n",
        "            file_name = os.path.join(save_dir, os.path.basename(url.split(\"?\")[0]))\n",
        "            with open(file_name, \"wb\") as f:\n",
        "                f.write(img_data)\n",
        "        except:\n",
        "            pass  # ignora erros"
      ],
      "metadata": {
        "id": "jpILSGPx7Qpn"
      },
      "execution_count": 2,
      "outputs": []
    },
    {
      "cell_type": "code",
      "source": [
        "# =========================================\n",
        "# 3. Baixar Dataset (Will Smith vs Jim Carrey)\n",
        "# =========================================\n",
        "download_with_progress(\"Will Smith\", 300)\n",
        "download_with_progress(\"Jim Carrey\", 300)\n",
        "\n",
        "root = 'simple_images'\n",
        "categories = [os.path.join(root, c) for c in os.listdir(root) if os.path.isdir(os.path.join(root, c))]\n",
        "print(\"Categorias:\", categories)"
      ],
      "metadata": {
        "id": "6k_bOjiz7RjI",
        "outputId": "4466107b-952e-4a8c-b329-8a797e908860",
        "colab": {
          "base_uri": "https://localhost:8080/"
        }
      },
      "execution_count": 3,
      "outputs": [
        {
          "output_type": "stream",
          "name": "stderr",
          "text": [
            "Baixando Will Smith: 100%|██████████| 300/300 [00:47<00:00,  6.38it/s]\n",
            "Baixando Jim Carrey: 100%|██████████| 300/300 [00:45<00:00,  6.63it/s]"
          ]
        },
        {
          "output_type": "stream",
          "name": "stdout",
          "text": [
            "Categorias: ['simple_images/Will Smith', 'simple_images/Jim Carrey']\n"
          ]
        },
        {
          "output_type": "stream",
          "name": "stderr",
          "text": [
            "\n"
          ]
        }
      ]
    },
    {
      "cell_type": "code",
      "source": [
        "# =========================================\n",
        "# 4. Função para carregar imagens\n",
        "# =========================================\n",
        "def get_image(path):\n",
        "    img = image.load_img(path, target_size=(224, 224))\n",
        "    x = image.img_to_array(img)\n",
        "    x = preprocess_input(x)\n",
        "    return img, x\n"
      ],
      "metadata": {
        "id": "W5zORy377UZK"
      },
      "execution_count": 4,
      "outputs": []
    },
    {
      "cell_type": "code",
      "source": [
        "# =========================================\n",
        "# 5. Montar dataset com limite por classe\n",
        "# =========================================\n",
        "data = []\n",
        "max_images_per_class = 250\n",
        "\n",
        "for c, category in enumerate(categories):\n",
        "    images = [\n",
        "        os.path.join(dp, f)\n",
        "        for dp, dn, filenames in os.walk(category)\n",
        "        for f in filenames\n",
        "        if os.path.splitext(f)[1].lower() in ['.jpg', '.png', '.jpeg']\n",
        "    ]\n",
        "    random.shuffle(images)\n",
        "    for i, img_path in enumerate(images[:max_images_per_class]):\n",
        "        try:\n",
        "            img, x = get_image(img_path)\n",
        "            data.append({'x': x, 'y': c})\n",
        "        except:\n",
        "            pass\n",
        "\n",
        "random.shuffle(data)\n",
        "num_classes = len(categories)"
      ],
      "metadata": {
        "id": "eTCt4nPs7Ydq"
      },
      "execution_count": 5,
      "outputs": []
    },
    {
      "cell_type": "code",
      "source": [
        "# =========================================\n",
        "# 6. Separar treino / validação / teste\n",
        "# =========================================\n",
        "train_split, val_split = 0.7, 0.15\n",
        "idx_val = int(train_split * len(data))\n",
        "idx_test = int((train_split + val_split) * len(data))\n",
        "\n",
        "train = data[:idx_val]\n",
        "val = data[idx_val:idx_test]\n",
        "test = data[idx_test:]\n",
        "\n",
        "x_train, y_train = np.array([t[\"x\"] for t in train]), [t[\"y\"] for t in train]\n",
        "x_val, y_val = np.array([t[\"x\"] for t in val]), [t[\"y\"] for t in val]\n",
        "x_test, y_test = np.array([t[\"x\"] for t in test]), [t[\"y\"] for t in test]\n",
        "\n",
        "y_train = to_categorical(y_train, num_classes)\n",
        "y_val = to_categorical(y_val, num_classes)\n",
        "y_test = to_categorical(y_test, num_classes)\n",
        "\n",
        "print(f\"Train: {x_train.shape}, Val: {x_val.shape}, Test: {x_test.shape}\")"
      ],
      "metadata": {
        "id": "9PI4ZxIu7an1",
        "outputId": "06701c3e-b8e3-43bc-ee6b-e03175ecffef",
        "colab": {
          "base_uri": "https://localhost:8080/"
        }
      },
      "execution_count": 6,
      "outputs": [
        {
          "output_type": "stream",
          "name": "stdout",
          "text": [
            "Train: (86, 224, 224, 3), Val: (19, 224, 224, 3), Test: (19, 224, 224, 3)\n"
          ]
        }
      ]
    },
    {
      "cell_type": "code",
      "source": [
        "# =========================================\n",
        "# 7. Data Augmentation para treino\n",
        "# =========================================\n",
        "datagen = ImageDataGenerator(\n",
        "    rotation_range=20,\n",
        "    width_shift_range=0.2,\n",
        "    height_shift_range=0.2,\n",
        "    shear_range=0.2,\n",
        "    zoom_range=0.2,\n",
        "    horizontal_flip=True\n",
        ")\n",
        "datagen.fit(x_train)"
      ],
      "metadata": {
        "id": "p_KtKxqg7ciU"
      },
      "execution_count": 7,
      "outputs": []
    },
    {
      "cell_type": "code",
      "source": [
        "# =========================================\n",
        "# 8. Carregar VGG16 pré-treinada\n",
        "# =========================================\n",
        "vgg = keras.applications.VGG16(weights='imagenet', include_top=True)\n",
        "\n",
        "# Trocar última camada\n",
        "new_classification_layer = Dense(num_classes, activation='softmax')\n",
        "out = new_classification_layer(vgg.layers[-2].output)\n",
        "model_new = Model(inputs=vgg.input, outputs=out)\n",
        "\n",
        "# Congelar todas as camadas menos a última\n",
        "for layer in model_new.layers[:-1]:\n",
        "    layer.trainable = False\n",
        "model_new.layers[-1].trainable = True\n",
        "\n",
        "# Compilar e treinar fase 1\n",
        "model_new.compile(loss='categorical_crossentropy',\n",
        "                  optimizer='adam',\n",
        "                  metrics=['accuracy'])\n",
        "\n",
        "history1 = model_new.fit(\n",
        "    datagen.flow(x_train, y_train, batch_size=32),\n",
        "    validation_data=(x_val, y_val),\n",
        "    epochs=20\n",
        ")"
      ],
      "metadata": {
        "id": "3TfK-GdO7e1e",
        "outputId": "8515454b-dc95-494d-fe16-e66884c32ca7",
        "colab": {
          "base_uri": "https://localhost:8080/"
        }
      },
      "execution_count": 17,
      "outputs": [
        {
          "output_type": "stream",
          "name": "stdout",
          "text": [
            "Epoch 1/20\n",
            "\u001b[1m3/3\u001b[0m \u001b[32m━━━━━━━━━━━━━━━━━━━━\u001b[0m\u001b[37m\u001b[0m \u001b[1m5s\u001b[0m 1s/step - accuracy: 0.5558 - loss: 0.9323 - val_accuracy: 0.5263 - val_loss: 0.9636\n",
            "Epoch 2/20\n",
            "\u001b[1m3/3\u001b[0m \u001b[32m━━━━━━━━━━━━━━━━━━━━\u001b[0m\u001b[37m\u001b[0m \u001b[1m2s\u001b[0m 447ms/step - accuracy: 0.6267 - loss: 0.6567 - val_accuracy: 0.5789 - val_loss: 0.8557\n",
            "Epoch 3/20\n",
            "\u001b[1m3/3\u001b[0m \u001b[32m━━━━━━━━━━━━━━━━━━━━\u001b[0m\u001b[37m\u001b[0m \u001b[1m1s\u001b[0m 359ms/step - accuracy: 0.7471 - loss: 0.5289 - val_accuracy: 0.7368 - val_loss: 0.6505\n",
            "Epoch 4/20\n",
            "\u001b[1m3/3\u001b[0m \u001b[32m━━━━━━━━━━━━━━━━━━━━\u001b[0m\u001b[37m\u001b[0m \u001b[1m1s\u001b[0m 435ms/step - accuracy: 0.8106 - loss: 0.4256 - val_accuracy: 0.6842 - val_loss: 0.6289\n",
            "Epoch 5/20\n",
            "\u001b[1m3/3\u001b[0m \u001b[32m━━━━━━━━━━━━━━━━━━━━\u001b[0m\u001b[37m\u001b[0m \u001b[1m1s\u001b[0m 430ms/step - accuracy: 0.8763 - loss: 0.3016 - val_accuracy: 0.7368 - val_loss: 0.5692\n",
            "Epoch 6/20\n",
            "\u001b[1m3/3\u001b[0m \u001b[32m━━━━━━━━━━━━━━━━━━━━\u001b[0m\u001b[37m\u001b[0m \u001b[1m1s\u001b[0m 380ms/step - accuracy: 0.8724 - loss: 0.3082 - val_accuracy: 0.8421 - val_loss: 0.4730\n",
            "Epoch 7/20\n",
            "\u001b[1m3/3\u001b[0m \u001b[32m━━━━━━━━━━━━━━━━━━━━\u001b[0m\u001b[37m\u001b[0m \u001b[1m1s\u001b[0m 372ms/step - accuracy: 0.9241 - loss: 0.2320 - val_accuracy: 0.8421 - val_loss: 0.4246\n",
            "Epoch 8/20\n",
            "\u001b[1m3/3\u001b[0m \u001b[32m━━━━━━━━━━━━━━━━━━━━\u001b[0m\u001b[37m\u001b[0m \u001b[1m1s\u001b[0m 435ms/step - accuracy: 0.8545 - loss: 0.2658 - val_accuracy: 0.6842 - val_loss: 0.4217\n",
            "Epoch 9/20\n",
            "\u001b[1m3/3\u001b[0m \u001b[32m━━━━━━━━━━━━━━━━━━━━\u001b[0m\u001b[37m\u001b[0m \u001b[1m1s\u001b[0m 514ms/step - accuracy: 0.9222 - loss: 0.1546 - val_accuracy: 0.7368 - val_loss: 0.3915\n",
            "Epoch 10/20\n",
            "\u001b[1m3/3\u001b[0m \u001b[32m━━━━━━━━━━━━━━━━━━━━\u001b[0m\u001b[37m\u001b[0m \u001b[1m2s\u001b[0m 495ms/step - accuracy: 0.9376 - loss: 0.1787 - val_accuracy: 0.8421 - val_loss: 0.3424\n",
            "Epoch 11/20\n",
            "\u001b[1m3/3\u001b[0m \u001b[32m━━━━━━━━━━━━━━━━━━━━\u001b[0m\u001b[37m\u001b[0m \u001b[1m1s\u001b[0m 432ms/step - accuracy: 0.9605 - loss: 0.1290 - val_accuracy: 0.8421 - val_loss: 0.3292\n",
            "Epoch 12/20\n",
            "\u001b[1m3/3\u001b[0m \u001b[32m━━━━━━━━━━━━━━━━━━━━\u001b[0m\u001b[37m\u001b[0m \u001b[1m1s\u001b[0m 437ms/step - accuracy: 0.9183 - loss: 0.2113 - val_accuracy: 0.8421 - val_loss: 0.3286\n",
            "Epoch 13/20\n",
            "\u001b[1m3/3\u001b[0m \u001b[32m━━━━━━━━━━━━━━━━━━━━\u001b[0m\u001b[37m\u001b[0m \u001b[1m1s\u001b[0m 372ms/step - accuracy: 0.9767 - loss: 0.1060 - val_accuracy: 0.8947 - val_loss: 0.2916\n",
            "Epoch 14/20\n",
            "\u001b[1m3/3\u001b[0m \u001b[32m━━━━━━━━━━━━━━━━━━━━\u001b[0m\u001b[37m\u001b[0m \u001b[1m1s\u001b[0m 444ms/step - accuracy: 0.9297 - loss: 0.1180 - val_accuracy: 0.9474 - val_loss: 0.2794\n",
            "Epoch 15/20\n",
            "\u001b[1m3/3\u001b[0m \u001b[32m━━━━━━━━━━━━━━━━━━━━\u001b[0m\u001b[37m\u001b[0m \u001b[1m1s\u001b[0m 431ms/step - accuracy: 0.9297 - loss: 0.1806 - val_accuracy: 0.8947 - val_loss: 0.2566\n",
            "Epoch 16/20\n",
            "\u001b[1m3/3\u001b[0m \u001b[32m━━━━━━━━━━━━━━━━━━━━\u001b[0m\u001b[37m\u001b[0m \u001b[1m1s\u001b[0m 369ms/step - accuracy: 0.9455 - loss: 0.1421 - val_accuracy: 0.8947 - val_loss: 0.2568\n",
            "Epoch 17/20\n",
            "\u001b[1m3/3\u001b[0m \u001b[32m━━━━━━━━━━━━━━━━━━━━\u001b[0m\u001b[37m\u001b[0m \u001b[1m1s\u001b[0m 373ms/step - accuracy: 0.9368 - loss: 0.1119 - val_accuracy: 0.9474 - val_loss: 0.2592\n",
            "Epoch 18/20\n",
            "\u001b[1m3/3\u001b[0m \u001b[32m━━━━━━━━━━━━━━━━━━━━\u001b[0m\u001b[37m\u001b[0m \u001b[1m1s\u001b[0m 457ms/step - accuracy: 0.9884 - loss: 0.0936 - val_accuracy: 0.9474 - val_loss: 0.2524\n",
            "Epoch 19/20\n",
            "\u001b[1m3/3\u001b[0m \u001b[32m━━━━━━━━━━━━━━━━━━━━\u001b[0m\u001b[37m\u001b[0m \u001b[1m2s\u001b[0m 620ms/step - accuracy: 0.9724 - loss: 0.0976 - val_accuracy: 0.8947 - val_loss: 0.2147\n",
            "Epoch 20/20\n",
            "\u001b[1m3/3\u001b[0m \u001b[32m━━━━━━━━━━━━━━━━━━━━\u001b[0m\u001b[37m\u001b[0m \u001b[1m1s\u001b[0m 434ms/step - accuracy: 0.9826 - loss: 0.0790 - val_accuracy: 0.8947 - val_loss: 0.2155\n"
          ]
        }
      ]
    },
    {
      "cell_type": "code",
      "source": [
        "# =========================================\n",
        "# 9. Fine-tuning: descongelar block5_conv1+\n",
        "# =========================================\n",
        "set_trainable = False\n",
        "for layer in model_new.layers:\n",
        "    if layer.name == 'block5_conv1':\n",
        "        set_trainable = True\n",
        "    if set_trainable:\n",
        "        layer.trainable = True\n",
        "\n",
        "# Compilar com learning rate menor\n",
        "model_new.compile(loss='categorical_crossentropy',\n",
        "                  optimizer=Adam(learning_rate=1e-5),\n",
        "                  metrics=['accuracy'])\n",
        "\n",
        "history2 = model_new.fit(\n",
        "    datagen.flow(x_train, y_train, batch_size=32),\n",
        "    validation_data=(x_val, y_val),\n",
        "    epochs=5\n",
        ")"
      ],
      "metadata": {
        "id": "IlqMeMu77g8-",
        "outputId": "e90106ff-3129-4db8-8e0b-aa7c52648f2d",
        "colab": {
          "base_uri": "https://localhost:8080/"
        }
      },
      "execution_count": 18,
      "outputs": [
        {
          "output_type": "stream",
          "name": "stdout",
          "text": [
            "Epoch 1/5\n",
            "\u001b[1m3/3\u001b[0m \u001b[32m━━━━━━━━━━━━━━━━━━━━\u001b[0m\u001b[37m\u001b[0m \u001b[1m8s\u001b[0m 2s/step - accuracy: 0.9225 - loss: 0.1882 - val_accuracy: 1.0000 - val_loss: 0.1761\n",
            "Epoch 2/5\n",
            "\u001b[1m3/3\u001b[0m \u001b[32m━━━━━━━━━━━━━━━━━━━━\u001b[0m\u001b[37m\u001b[0m \u001b[1m1s\u001b[0m 399ms/step - accuracy: 0.9689 - loss: 0.1026 - val_accuracy: 0.8421 - val_loss: 0.2603\n",
            "Epoch 3/5\n",
            "\u001b[1m3/3\u001b[0m \u001b[32m━━━━━━━━━━━━━━━━━━━━\u001b[0m\u001b[37m\u001b[0m \u001b[1m1s\u001b[0m 387ms/step - accuracy: 0.9884 - loss: 0.0458 - val_accuracy: 0.9474 - val_loss: 0.2233\n",
            "Epoch 4/5\n",
            "\u001b[1m3/3\u001b[0m \u001b[32m━━━━━━━━━━━━━━━━━━━━\u001b[0m\u001b[37m\u001b[0m \u001b[1m1s\u001b[0m 406ms/step - accuracy: 0.9817 - loss: 0.0713 - val_accuracy: 0.7895 - val_loss: 0.3515\n",
            "Epoch 5/5\n",
            "\u001b[1m3/3\u001b[0m \u001b[32m━━━━━━━━━━━━━━━━━━━━\u001b[0m\u001b[37m\u001b[0m \u001b[1m1s\u001b[0m 395ms/step - accuracy: 0.9825 - loss: 0.0504 - val_accuracy: 0.9474 - val_loss: 0.1736\n"
          ]
        }
      ]
    },
    {
      "cell_type": "code",
      "source": [
        "# =========================================\n",
        "# 10. Avaliação final\n",
        "# =========================================\n",
        "loss, accuracy = model_new.evaluate(x_test, y_test, verbose=0)\n",
        "print('Test loss:', loss)\n",
        "print('Test accuracy:', accuracy)"
      ],
      "metadata": {
        "id": "kAgVuPRz7jc1",
        "outputId": "85dc9859-32d1-4c9f-d942-7ca9bbd0f634",
        "colab": {
          "base_uri": "https://localhost:8080/"
        }
      },
      "execution_count": 19,
      "outputs": [
        {
          "output_type": "stream",
          "name": "stdout",
          "text": [
            "Test loss: 0.8317107558250427\n",
            "Test accuracy: 0.6842105388641357\n"
          ]
        }
      ]
    },
    {
      "cell_type": "code",
      "source": [
        "# =========================================\n",
        "# 11. Plotar métricas\n",
        "# =========================================\n",
        "plt.figure(figsize=(12,4))\n",
        "plt.subplot(1,2,1)\n",
        "plt.plot(history1.history['val_accuracy'] + history2.history['val_accuracy'])\n",
        "plt.title(\"Validation Accuracy\")\n",
        "plt.xlabel(\"Epochs\")\n",
        "plt.ylim(0, 1)\n",
        "\n",
        "plt.subplot(1,2,2)\n",
        "plt.plot(history1.history['val_loss'] + history2.history['val_loss'])\n",
        "plt.title(\"Validation Loss\")\n",
        "plt.xlabel(\"Epochs\")\n",
        "\n",
        "plt.show()"
      ],
      "metadata": {
        "id": "CH9OMkQ57k40",
        "outputId": "1509856d-33f9-44c9-dd26-fc9811296959",
        "colab": {
          "base_uri": "https://localhost:8080/",
          "height": 410
        }
      },
      "execution_count": 20,
      "outputs": [
        {
          "output_type": "display_data",
          "data": {
            "text/plain": [
              "<Figure size 1200x400 with 2 Axes>"
            ],
            "image/png": "[encoded data removed]"
          },
          "metadata": {}
        }
      ]
    }
  ]
}